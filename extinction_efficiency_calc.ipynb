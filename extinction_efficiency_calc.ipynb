{
 "cells": [
  {
   "cell_type": "code",
   "execution_count": 1,
   "metadata": {
    "collapsed": true
   },
   "outputs": [],
   "source": [
    "import numpy as np\n",
    "import matplotlib.pyplot as plt\n",
    "import pandas as pd\n",
    "from functools import reduce\n",
    "import glob\n",
    "import scipy.integrate as integrate\n",
    "import time\n",
    "%matplotlib inline"
   ]
  },
  {
   "cell_type": "markdown",
   "metadata": {},
   "source": [
    "### Significantly still in progress...\n",
    "\n",
    "(lots of places left to optimize!)"
   ]
  },
  {
   "cell_type": "code",
   "execution_count": 2,
   "metadata": {},
   "outputs": [],
   "source": [
    "df1 = pd.read_csv('./output/tio2/tio2_0.100um_efficiencies.dat', delimiter='\\t')\n",
    "df2 = pd.read_csv('./output/tio2/tio2_0.951um_efficiencies.dat', delimiter='\\t')\n",
    "df3 = pd.read_csv('./output/tio2/tio2_0.500um_efficiencies.dat', delimiter='\\t')\n",
    "df4 = pd.read_csv('./output/tio2/tio2_0.250um_efficiencies.dat', delimiter='\\t')\n",
    "\n",
    "dfs = [df1, df2, df3, df4]\n",
    "\n",
    "all_dats = glob.glob('./output/tio2/*dat')\n",
    "test_dats = all_dats[:50]"
   ]
  },
  {
   "cell_type": "code",
   "execution_count": 3,
   "metadata": {
    "collapsed": true
   },
   "outputs": [],
   "source": [
    "def concat_lxmiedats(datafiles):\n",
    "    '''\n",
    "    inputs: list of LX-MIE output data files, i.e., list of datafile names\n",
    "    \n",
    "    returns:\n",
    "        wavelengths_um = all of the wavelengths of the mie scattering calculations, in microns\n",
    "        qext_df = dataframe with extinction coefficients, indexed over the wavelengths, one column for each grain size\n",
    "        grains = all of the grain sizes used in the mie calculations\n",
    "        \n",
    "    note: this is a bit clunky and slow, but it works and only needs to be run once; revisit later.\n",
    "    '''\n",
    "    \n",
    "    new_dfs = []\n",
    "    grains = []\n",
    "\n",
    "    for idx, datfile in enumerate(datafiles):\n",
    "        # read in datafile\n",
    "        df = pd.read_csv(datfile, delimiter='\\t')\n",
    "\n",
    "        # drop columns we're not using\n",
    "        new_df = df[['#wavelengths (mu)','q_ext           ']]\n",
    "\n",
    "        # grab the grain size from the filename\n",
    "        grainsize = datfile.split('_')[1]\n",
    "        new_df.rename(columns={'#wavelengths (mu)':'wv_um', 'q_ext           ':'q_ext_' + grainsize}, inplace=True)\n",
    "        grains.append(grainsize.strip('um'))\n",
    "\n",
    "        # just append the new df into the mega list:\n",
    "        new_dfs.append(new_df)\n",
    "        \n",
    "    # merge all of the dataframes into a single dataframe, based on wavelength column index\n",
    "    qext_df = reduce(lambda left, right: pd.merge(left, right, on=\"wv_um\"), new_dfs)\n",
    "    \n",
    "    # save wavelength array to be used later:\n",
    "    wavelengths_um = np.array(qext_df['wv_um'])\n",
    "    \n",
    "    # transpose the combined dataframe to return an array of Qext values, one for each grain size, per wavelength\n",
    "    # there is certainly a more clever way involving creation of a three-dimensional array....\n",
    "#     combo_df.set_index('wv_um', inplace=True)\n",
    "#     df_transpose = combo_df.T\n",
    "    \n",
    "    # the way to retrieve list of Qext for many grains at a given wavelength, operating on rows: \n",
    "    # np.array(qext_df.iloc[idx])[1:] returns a row, where index matches the index of the wavelength of interest \n",
    "    # NB (1: drops first element in array, which is just the wavelength value)\n",
    "    \n",
    "    grains = np.array([float(x) for x in grains])\n",
    "    \n",
    "    return wavelengths_um, qext_df, grains\n",
    "    "
   ]
  },
  {
   "cell_type": "code",
   "execution_count": 4,
   "metadata": {},
   "outputs": [
    {
     "name": "stderr",
     "output_type": "stream",
     "text": [
      "/Users/kwardduong/anaconda3/lib/python3.6/site-packages/pandas/core/frame.py:2746: SettingWithCopyWarning: \n",
      "A value is trying to be set on a copy of a slice from a DataFrame\n",
      "\n",
      "See the caveats in the documentation: http://pandas.pydata.org/pandas-docs/stable/indexing.html#indexing-view-versus-copy\n",
      "  **kwargs)\n"
     ]
    }
   ],
   "source": [
    "wv, qext_df, grains = concat_lxmiedats(all_dats)"
   ]
  },
  {
   "cell_type": "markdown",
   "metadata": {},
   "source": [
    "## Try out the integral now!"
   ]
  },
  {
   "cell_type": "markdown",
   "metadata": {},
   "source": [
    "Q_ext as a function of wavelength is written as follows, integrated over a given particle distribution:\n",
    "    \n",
    "$Q_{ext}(\\lambda) = \\frac{\\int_{r_{min}}^{r_{max}}\\pi r^{2} Q_{ext}(r, \\lambda) n(r) dr}{\\int_{r_{min}}^{r_{max}} \\pi r^{2} n(r) dr}$    \n",
    "\n",
    "So we can try to numerically integrate this, based on the output from LX-MIE."
   ]
  },
  {
   "cell_type": "code",
   "execution_count": 5,
   "metadata": {
    "collapsed": true
   },
   "outputs": [],
   "source": [
    "# Define some useful functions first\n",
    "\n",
    "def n(r):\n",
    "    \"\"\"\n",
    "    Grain size distribution.\n",
    "    Update this with the relevant grain distribution of your choice.\n",
    "    \"\"\"\n",
    "    return r**-3\n",
    "\n",
    "\n",
    "def get_qext(wavelength, wv, qext_df):\n",
    "    \"\"\"\n",
    "    a little function to return Q_ext(r) for a fixed wavelength from the above dataframe.\n",
    "    said fixed wavelength MUST be the same quantity in the wavelength array, so slice carefully.\n",
    "    this is what goes into the lambda notation below (q_returned)\n",
    "    \"\"\"\n",
    "    idx = np.where(wv == wavelength)[0][0]\n",
    "    qext_wv = np.array(qext_df.iloc[idx])[1:]\n",
    "    return qext_wv\n",
    "\n",
    "\n",
    "\n",
    "# lambda notation!\n",
    "top_integrand = lambda r, q_returned: np.pi * (r**2) * q_returned * n(r)\n",
    "\n",
    "bottom_integrand = lambda r: np.pi * (r**2) * n(r)\n"
   ]
  },
  {
   "cell_type": "code",
   "execution_count": 13,
   "metadata": {},
   "outputs": [
    {
     "name": "stdout",
     "output_type": "stream",
     "text": [
      "time to complete 7344 calculations: 4.382 seconds\n"
     ]
    }
   ],
   "source": [
    "# IMPROVED \"vectorized\" approach. (This is literally 1000x faster...)\n",
    "    \n",
    "# first, let's make the wavelength range something more reasonable.\n",
    "min_wv = 0.5 \n",
    "max_wv = 5.0\n",
    "\n",
    "# wv_short = wv[0::25] # start : stop : step -- uncomment for testing purposes and replace wv below w/wv_short\n",
    "\n",
    "wv_restricted = wv[(wv > min_wv) & (wv < max_wv)]\n",
    "\n",
    "t0 = time.time()\n",
    "\n",
    "# the following list should be Q_ext(wv) for each wavelength, integrated over particle size\n",
    "qvals = []\n",
    "\n",
    "for ii in range(0, len(wv)):\n",
    "    if wv[ii] > min_wv and wv[ii] < max_wv:\n",
    "        q = get_qext(wv[ii], wv, qext_df)\n",
    "        qext = integrate.simps(top_integrand(grains, q), grains) / integrate.simps(bottom_integrand(grains), grains)\n",
    "        qvals.append(qext)\n",
    "    \n",
    "t1 = time.time()\n",
    "\n",
    "print(\"time to complete \" + str(len(wv)) + \" calculations: \" + str(np.round(t1-t0,3)) + \" seconds\")"
   ]
  },
  {
   "cell_type": "code",
   "execution_count": 7,
   "metadata": {
    "collapsed": true
   },
   "outputs": [],
   "source": [
    "np.savetxt('qext_calc_revised.txt', np.c_[wv_restricted, qvals])"
   ]
  },
  {
   "cell_type": "code",
   "execution_count": 8,
   "metadata": {},
   "outputs": [],
   "source": [
    "wv_restricted_old, qvals_old = np.loadtxt('qext_calc.txt').T"
   ]
  },
  {
   "cell_type": "code",
   "execution_count": 11,
   "metadata": {},
   "outputs": [
    {
     "data": {
      "text/plain": [
       "<matplotlib.text.Text at 0x1513143e48>"
      ]
     },
     "execution_count": 11,
     "metadata": {},
     "output_type": "execute_result"
    },
    {
     "data": {
      "image/png": "[encoded data removed]",
      "text/plain": [
       "<matplotlib.figure.Figure at 0x1509da9320>"
      ]
     },
     "metadata": {},
     "output_type": "display_data"
    }
   ],
   "source": [
    "plt.figure(figsize=(10,7))\n",
    "plt.plot(wv_restricted_old, qvals_old, label='old')\n",
    "plt.plot(wv_restricted, qvals, 'r:', label='new vectorized approach')\n",
    "plt.legend(loc=1)\n",
    "plt.xlabel(r'Wavelength ($\\mu$m)')\n",
    "plt.ylabel(r'Extinction Coefficient, Q$_{ext}(\\lambda)$')\n",
    "# plt.xlim(0.5,0.75)\n",
    "# plt.ylim(2.95,3.2)"
   ]
  },
  {
   "cell_type": "code",
   "execution_count": null,
   "metadata": {
    "collapsed": true
   },
   "outputs": [],
   "source": []
  },
  {
   "cell_type": "code",
   "execution_count": null,
   "metadata": {
    "collapsed": true
   },
   "outputs": [],
   "source": []
  },
  {
   "cell_type": "code",
   "execution_count": null,
   "metadata": {
    "collapsed": true
   },
   "outputs": [],
   "source": []
  },
  {
   "cell_type": "code",
   "execution_count": null,
   "metadata": {
    "collapsed": true
   },
   "outputs": [],
   "source": []
  },
  {
   "cell_type": "raw",
   "metadata": {},
   "source": []
  }
 ],
 "metadata": {
  "kernelspec": {
   "display_name": "Python 3",
   "language": "python",
   "name": "python3"
  },
  "language_info": {
   "codemirror_mode": {
    "name": "ipython",
    "version": 3
   },
   "file_extension": ".py",
   "mimetype": "text/x-python",
   "name": "python",
   "nbconvert_exporter": "python",
   "pygments_lexer": "ipython3",
   "version": "3.6.2"
  }
 },
 "nbformat": 4,
 "nbformat_minor": 2
}
